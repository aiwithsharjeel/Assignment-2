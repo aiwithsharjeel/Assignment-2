{
 "cells": [
  {
   "cell_type": "code",
   "execution_count": 5,
   "id": "5fce26d9",
   "metadata": {},
   "outputs": [],
   "source": [
    "#Q1) \n",
    "shopping_list= []\n",
    "set_list= ['chicken', 'apples','bananas']\n",
    "for item in shopping_list:\n",
    "        if shopping_list == set_list:\n",
    "            print(\"you have everything\")\n",
    "        = set_list.remove(new_item)\n",
    "        print(new_list)"
   ]
  },
  {
   "cell_type": "code",
   "execution_count": null,
   "id": "d0f6d2d9",
   "metadata": {},
   "outputs": [
    {
     "name": "stdout",
     "output_type": "stream",
     "text": [
      "enter your name : df\n",
      "enter your marks: 34\n",
      "enter your marks: 56\n",
      "enter your marks: 7\n",
      "enter your marks: 88\n"
     ]
    }
   ],
   "source": [
    "#Q2\n",
    "students= [\n",
    "   { \"student_id\" : 1,\n",
    "    \"name\" : input(\"enter your name : \"),\n",
    "     \"physics\": int(input(\"enter your marks: \")),\n",
    "      \"maths\": int(input(\"enter your marks: \")),\n",
    "      \"chems\": int(input(\"enter your marks: \")),\n",
    "      \"urdu\": int(input(\"enter your marks: \"))},\n",
    "     { \"student_id\" : 2,\n",
    "    \"name\" : input(\"enter your name : \"),\n",
    "     \"physics\": int(input(\"enter your marks: \")),\n",
    "      \"maths\": int(input(\"enter your marks: \")),\n",
    "      \"chems\": int(input(\"enter your marks: \")),\n",
    "      \"urdu\": int(input(\"enter your marks: \"))},\n",
    "     { \"student_id\" : 3,\n",
    "    \"name\" : input(\"enter your name : \"),\n",
    "     \"physics\": int(input(\"enter your marks: \")),\n",
    "      \"maths\": int(input(\"enter your marks: \")),\n",
    "      \"chems\": int(input(\"enter your marks: \")),\n",
    "      \"urdu\": int(input(\"enter your marks: \"))},\n",
    " { \"student_id\" : 4,\n",
    "     \"name\" : input(\"enter your name : \"),\n",
    "     \"physics\": int(input(\"enter your marks: \")),\n",
    "      \"maths\": int(input(\"enter your marks: \")),\n",
    "      \"chems\": int(input(\"enter your marks: \")),\n",
    "      \"urdu\": int(input(\"enter your marks: \"))}\n",
    "]\n",
    "for students_id in students: \n",
    "    average = (physics + maths + chems + urdu)/100 \n",
    "if average >= 90 :\n",
    "    print(\"grade A+\")\n",
    "elif average >= 80 :\n",
    "    print(\"grade A\")\n",
    "elif average >=70 :\n",
    "    print(\"grade B\")\n",
    "else : \n",
    "    print('invalid')\n"
   ]
  },
  {
   "cell_type": "code",
   "execution_count": 10,
   "id": "24971507",
   "metadata": {},
   "outputs": [
    {
     "name": "stdout",
     "output_type": "stream",
     "text": [
      "apple: 3\n",
      "banana: 2\n",
      "orange: 1\n",
      "grape: 1\n"
     ]
    }
   ],
   "source": [
    "# Q3) \n",
    "word_list = [\"apple\", \"banana\", \"apple\", \"orange\", \"banana\", \"grape\", \"apple\"]\n",
    "word_count= {}\n",
    "\n",
    "for word in word_list :\n",
    "    if word in  word_count:\n",
    "        word_count[word] +=1\n",
    "    \n",
    "    else:\n",
    "            word_count[word]=1\n",
    "for word, count in word_count.items():\n",
    "      print(f\"{word}: {count}\")\n"
   ]
  },
  {
   "cell_type": "code",
   "execution_count": 1,
   "id": "79d61a95",
   "metadata": {},
   "outputs": [
    {
     "name": "stdout",
     "output_type": "stream",
     "text": [
      "enter the number of voters: 4\n",
      "candidates: \n",
      "1.candidate A\n",
      "2.candidate B\n",
      "3.candiadte C\n",
      "candidates: \n",
      "1.candidate A\n",
      "2.candidate B\n",
      "3.candiadte C\n",
      "candidates: \n",
      "1.candidate A\n",
      "2.candidate B\n",
      "3.candiadte C\n",
      "candidates: \n",
      "1.candidate A\n",
      "2.candidate B\n",
      "3.candiadte C\n",
      "enter your candidate number: 3\n",
      "vote for candiadte C recorded\n",
      "\n",
      "voting results: \n",
      "candidate A: 0\n",
      "candidate B: 0\n",
      "candiadte C: 1\n"
     ]
    }
   ],
   "source": [
    "#Q4)\n",
    "candidates = [\"candidate A\", \"candidate B\", \"candiadte C\"]\n",
    "votes = {candidate : 0 for candidate in candidates}\n",
    "num_voters = int(input(\"enter the number of voters: \"))\n",
    "\n",
    "\n",
    "for _ in range(num_voters):\n",
    "    print(\"candidates: \")\n",
    "    for i, candidate in enumerate(candidates, start=1):\n",
    "        print(f\"{i}.{candidate}\")\n",
    "        \n",
    "vote = int(input(\"enter your candidate number: \"))\n",
    "if 1<= vote <=len(candidates):\n",
    "    selected_candidates=candidates[vote-1]\n",
    "    votes[selected_candidates]+=1\n",
    "    print(f\"vote for {selected_candidates} recorded\")\n",
    "else: \n",
    "    print(\"invalid vote\")\n",
    "    \n",
    "print(\"\\nvoting results: \")\n",
    "for candidate ,vote_count in votes.items():\n",
    "    print(f\"{candidate}: {vote_count}\")"
   ]
  },
  {
   "cell_type": "code",
   "execution_count": null,
   "id": "53c61c4f",
   "metadata": {},
   "outputs": [],
   "source": []
  }
 ],
 "metadata": {
  "kernelspec": {
   "display_name": "Python 3 (ipykernel)",
   "language": "python",
   "name": "python3"
  },
  "language_info": {
   "codemirror_mode": {
    "name": "ipython",
    "version": 3
   },
   "file_extension": ".py",
   "mimetype": "text/x-python",
   "name": "python",
   "nbconvert_exporter": "python",
   "pygments_lexer": "ipython3",
   "version": "3.11.5"
  }
 },
 "nbformat": 4,
 "nbformat_minor": 5
}
